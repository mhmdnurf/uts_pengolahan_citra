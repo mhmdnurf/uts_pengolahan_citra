{
 "cells": [
  {
   "cell_type": "code",
   "execution_count": null,
   "id": "06e63111-8d08-4052-9827-297ef41cbd74",
   "metadata": {},
   "outputs": [],
   "source": [
    "import cv2\n",
    "import numpy as np\n",
    "import matplotlib.pyplot as plt\n",
    "\n",
    "# Membaca gambar\n",
    "image_path = './foto.jpeg'\n",
    "image = cv2.imread(image_path)\n",
    "\n",
    "# Pastikan gambar berhasil dibaca\n",
    "if image is None:\n",
    "    print(\"Gagal membaca gambar.\")\n",
    "else:\n",
    "    # Menampilkan gambar asli\n",
    "    plt.subplot(131)\n",
    "    plt.title('Gambar Asli')\n",
    "    plt.imshow(cv2.cvtColor(image, cv2.COLOR_BGR2RGB))\n",
    "\n",
    "    # Menambahkan kecerahan\n",
    "    brightness_increase = cv2.convertScaleAbs(image, alpha=1.0, beta=50)\n",
    "    plt.subplot(132)\n",
    "    plt.title('Kecerahan Ditambahkan')\n",
    "    plt.imshow(cv2.cvtColor(brightness_increase, cv2.COLOR_BGR2RGB))\n",
    "\n",
    "    # Mengurangi kecerahan\n",
    "    brightness_decrease = cv2.convertScaleAbs(image, alpha=1.0, beta=-50)\n",
    "    plt.subplot(133)\n",
    "    plt.title('Kecerahan Dikurangi')\n",
    "    plt.imshow(cv2.cvtColor(brightness_decrease, cv2.COLOR_BGR2RGB))\n",
    "\n",
    "    # Menampilkan histogram gambar asli\n",
    "    plt.figure()\n",
    "    for i, color in enumerate(['b', 'g', 'r']):\n",
    "        hist = cv2.calcHist([image], [i], None, [256], [0, 256])\n",
    "        plt.plot(hist, color=color)\n",
    "    plt.title('Histogram Gambar Asli')\n",
    "\n",
    "    plt.show()\n"
   ]
  },
  {
   "cell_type": "code",
   "execution_count": null,
   "id": "5fa98ca4-1d08-46c7-94b9-d3394e082098",
   "metadata": {},
   "outputs": [],
   "source": []
  }
 ],
 "metadata": {
  "kernelspec": {
   "display_name": "Python 3 (ipykernel)",
   "language": "python",
   "name": "python3"
  },
  "language_info": {
   "codemirror_mode": {
    "name": "ipython",
    "version": 3
   },
   "file_extension": ".py",
   "mimetype": "text/x-python",
   "name": "python",
   "nbconvert_exporter": "python",
   "pygments_lexer": "ipython3",
   "version": "3.12.0"
  }
 },
 "nbformat": 4,
 "nbformat_minor": 5
}
